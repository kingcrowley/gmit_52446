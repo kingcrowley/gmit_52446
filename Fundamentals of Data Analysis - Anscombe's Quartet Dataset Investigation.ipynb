{
 "cells": [
  {
   "cell_type": "markdown",
   "metadata": {},
   "source": [
    "# Background\n",
    "In 1973, Francis J. Anscombe published a paper titled, Graphs in Statistical Analysis [1].  Anscombe states that most textbooks and statisitcal programs of the time reinforce the idea that \"numerical calculations are exact, but graphs are rough.\" He proposes that computers should be able to generate *both* calculations *and* graphs.\n",
    "\n",
    "Anscombe then shows in the paper a table of numbers to show the need for combining both calucations and graphing techniques to examine datasets. It is unknown (as far as I can find) how Anscombe generated these sets but methods have been created to generate similar datasets [2]. \n",
    "\n",
    "The generated data contains four distinct datasets (hence the name Anscombe's Quartet), each with statistical properties that are essentially identical: the mean of the x values is 9.0 (exactly), mean of y values is 7.5 (to 2 decimal places), they all have nearly identical variances (x is exactly the same and y is ±0.003), correlations, and regression lines (to at least two decimal places)[3,4].\n",
    "\n",
    "[1] Anscombe, F. J. \"Graphs in Statistical Analysis.\" The American Statistician, vol. 27, no. 1, 1973, pp. 17–21. JSTOR, JSTOR, www.jstor.org/stable/2682899.\n",
    "\n",
    "[2] S. Chatterjee and A. Firat, \"Generating Data with Identical Statistics but Dissimilar Graphics,\" The American Statistician, vol. 61, no. 3, pp. 248–254, Aug. 2007.\n",
    "\n",
    "[3] Wikipedia contributors. \"Anscombe's quartet.\" Wikipedia, The Free Encyclopedia. Wikipedia, The Free Encyclopedia, 5 Sep. 2018. Web. 3 Nov. 2018.\n",
    "\n",
    "[4] RStudio Developers. \"Anscombe's Quartet of 'Identical' Simple Linear Regressions\" https://rstudio-pubs-static.s3.amazonaws.com/52381_36ec82827e4b476fb968d9143aec7c4f.html Web. 3 Nov. 2018\n"
   ]
  },
  {
   "cell_type": "code",
   "execution_count": null,
   "metadata": {
    "collapsed": true
   },
   "outputs": [],
   "source": []
  },
  {
   "cell_type": "markdown",
   "metadata": {},
   "source": [
    "# Descriptive Stats"
   ]
  },
  {
   "cell_type": "code",
   "execution_count": null,
   "metadata": {
    "collapsed": true
   },
   "outputs": [],
   "source": []
  },
  {
   "cell_type": "markdown",
   "metadata": {},
   "source": [
    "# Plots"
   ]
  },
  {
   "cell_type": "markdown",
   "metadata": {},
   "source": [
    "# Discussion"
   ]
  },
  {
   "cell_type": "code",
   "execution_count": null,
   "metadata": {
    "collapsed": true
   },
   "outputs": [],
   "source": []
  }
 ],
 "metadata": {
  "kernelspec": {
   "display_name": "Python 3",
   "language": "python",
   "name": "python3"
  },
  "language_info": {
   "codemirror_mode": {
    "name": "ipython",
    "version": 3
   },
   "file_extension": ".py",
   "mimetype": "text/x-python",
   "name": "python",
   "nbconvert_exporter": "python",
   "pygments_lexer": "ipython3",
   "version": "3.6.3"
  }
 },
 "nbformat": 4,
 "nbformat_minor": 2
}
