{
 "cells": [
  {
   "cell_type": "markdown",
   "metadata": {},
   "source": [
    "# Background\n",
    "In 1973, Francis J. Anscombe published a paper titled, Graphs in Statistical Analysis [1].  Anscombe states that most textbooks and statisitcal programs of the time reinforce the idea that \"numerical calculations are exact, but graphs are rough.\" He proposes that computers should be able to generate *both* calculations *and* graphs.\n",
    "\n",
    "Anscombe then shows in the paper a table of numbers to show the need for combining both calucations and graphing techniques to examine datasets. It is unknown (as far as I can find) how Anscombe generated these sets but methods have been created to generate similar datasets [2] \n",
    "\n",
    "[1] Anscombe, F. J. \"Graphs in Statistical Analysis.\" The American Statistician, vol. 27, no. 1, 1973, pp. 17–21. JSTOR, JSTOR, www.jstor.org/stable/2682899.\n",
    "\n",
    "[2] S. Chatterjee and A. Firat, \"Generating Data with Identical Statistics but Dissimilar Graphics,\" The American Statistician, vol. 61, no. 3, pp. 248–254, Aug. 2007.\n"
   ]
  },
  {
   "cell_type": "code",
   "execution_count": null,
   "metadata": {
    "collapsed": true
   },
   "outputs": [],
   "source": []
  }
 ],
 "metadata": {
  "kernelspec": {
   "display_name": "Python 3",
   "language": "python",
   "name": "python3"
  },
  "language_info": {
   "codemirror_mode": {
    "name": "ipython",
    "version": 3
   },
   "file_extension": ".py",
   "mimetype": "text/x-python",
   "name": "python",
   "nbconvert_exporter": "python",
   "pygments_lexer": "ipython3",
   "version": "3.6.3"
  }
 },
 "nbformat": 4,
 "nbformat_minor": 2
}
